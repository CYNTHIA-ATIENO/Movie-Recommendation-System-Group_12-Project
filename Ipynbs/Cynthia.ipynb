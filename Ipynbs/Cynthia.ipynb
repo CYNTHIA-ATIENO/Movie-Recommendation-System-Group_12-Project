{
 "cells": [
  {
   "cell_type": "markdown",
   "metadata": {},
   "source": [
    "### 1.Data Understanding"
   ]
  },
  {
   "cell_type": "code",
   "execution_count": 44,
   "metadata": {},
   "outputs": [],
   "source": [
    "#import libraries\n",
    "import pandas as pd"
   ]
  },
  {
   "cell_type": "code",
   "execution_count": 45,
   "metadata": {},
   "outputs": [
    {
     "data": {
      "text/html": [
       "<div>\n",
       "<style scoped>\n",
       "    .dataframe tbody tr th:only-of-type {\n",
       "        vertical-align: middle;\n",
       "    }\n",
       "\n",
       "    .dataframe tbody tr th {\n",
       "        vertical-align: top;\n",
       "    }\n",
       "\n",
       "    .dataframe thead th {\n",
       "        text-align: right;\n",
       "    }\n",
       "</style>\n",
       "<table border=\"1\" class=\"dataframe\">\n",
       "  <thead>\n",
       "    <tr style=\"text-align: right;\">\n",
       "      <th></th>\n",
       "      <th>movieId</th>\n",
       "      <th>title</th>\n",
       "      <th>genres</th>\n",
       "    </tr>\n",
       "  </thead>\n",
       "  <tbody>\n",
       "    <tr>\n",
       "      <th>0</th>\n",
       "      <td>1</td>\n",
       "      <td>Toy Story (1995)</td>\n",
       "      <td>Adventure|Animation|Children|Comedy|Fantasy</td>\n",
       "    </tr>\n",
       "    <tr>\n",
       "      <th>1</th>\n",
       "      <td>2</td>\n",
       "      <td>Jumanji (1995)</td>\n",
       "      <td>Adventure|Children|Fantasy</td>\n",
       "    </tr>\n",
       "    <tr>\n",
       "      <th>2</th>\n",
       "      <td>3</td>\n",
       "      <td>Grumpier Old Men (1995)</td>\n",
       "      <td>Comedy|Romance</td>\n",
       "    </tr>\n",
       "    <tr>\n",
       "      <th>3</th>\n",
       "      <td>4</td>\n",
       "      <td>Waiting to Exhale (1995)</td>\n",
       "      <td>Comedy|Drama|Romance</td>\n",
       "    </tr>\n",
       "    <tr>\n",
       "      <th>4</th>\n",
       "      <td>5</td>\n",
       "      <td>Father of the Bride Part II (1995)</td>\n",
       "      <td>Comedy</td>\n",
       "    </tr>\n",
       "  </tbody>\n",
       "</table>\n",
       "</div>"
      ],
      "text/plain": [
       "   movieId                               title  \\\n",
       "0        1                    Toy Story (1995)   \n",
       "1        2                      Jumanji (1995)   \n",
       "2        3             Grumpier Old Men (1995)   \n",
       "3        4            Waiting to Exhale (1995)   \n",
       "4        5  Father of the Bride Part II (1995)   \n",
       "\n",
       "                                        genres  \n",
       "0  Adventure|Animation|Children|Comedy|Fantasy  \n",
       "1                   Adventure|Children|Fantasy  \n",
       "2                               Comedy|Romance  \n",
       "3                         Comedy|Drama|Romance  \n",
       "4                                       Comedy  "
      ]
     },
     "execution_count": 45,
     "metadata": {},
     "output_type": "execute_result"
    }
   ],
   "source": [
    "# load data\n",
    "#movies data\n",
    "movies_df=pd.read_csv(r\"C:\\Users\\David\\Documents\\PHASE 4 PROJECT\\movies.csv\")\n",
    "movies_df.head()"
   ]
  },
  {
   "cell_type": "code",
   "execution_count": 46,
   "metadata": {},
   "outputs": [
    {
     "data": {
      "text/html": [
       "<div>\n",
       "<style scoped>\n",
       "    .dataframe tbody tr th:only-of-type {\n",
       "        vertical-align: middle;\n",
       "    }\n",
       "\n",
       "    .dataframe tbody tr th {\n",
       "        vertical-align: top;\n",
       "    }\n",
       "\n",
       "    .dataframe thead th {\n",
       "        text-align: right;\n",
       "    }\n",
       "</style>\n",
       "<table border=\"1\" class=\"dataframe\">\n",
       "  <thead>\n",
       "    <tr style=\"text-align: right;\">\n",
       "      <th></th>\n",
       "      <th>userId</th>\n",
       "      <th>movieId</th>\n",
       "      <th>rating</th>\n",
       "      <th>timestamp</th>\n",
       "    </tr>\n",
       "  </thead>\n",
       "  <tbody>\n",
       "    <tr>\n",
       "      <th>0</th>\n",
       "      <td>1</td>\n",
       "      <td>1</td>\n",
       "      <td>4.0</td>\n",
       "      <td>964982703</td>\n",
       "    </tr>\n",
       "    <tr>\n",
       "      <th>1</th>\n",
       "      <td>1</td>\n",
       "      <td>3</td>\n",
       "      <td>4.0</td>\n",
       "      <td>964981247</td>\n",
       "    </tr>\n",
       "    <tr>\n",
       "      <th>2</th>\n",
       "      <td>1</td>\n",
       "      <td>6</td>\n",
       "      <td>4.0</td>\n",
       "      <td>964982224</td>\n",
       "    </tr>\n",
       "    <tr>\n",
       "      <th>3</th>\n",
       "      <td>1</td>\n",
       "      <td>47</td>\n",
       "      <td>5.0</td>\n",
       "      <td>964983815</td>\n",
       "    </tr>\n",
       "    <tr>\n",
       "      <th>4</th>\n",
       "      <td>1</td>\n",
       "      <td>50</td>\n",
       "      <td>5.0</td>\n",
       "      <td>964982931</td>\n",
       "    </tr>\n",
       "  </tbody>\n",
       "</table>\n",
       "</div>"
      ],
      "text/plain": [
       "   userId  movieId  rating  timestamp\n",
       "0       1        1     4.0  964982703\n",
       "1       1        3     4.0  964981247\n",
       "2       1        6     4.0  964982224\n",
       "3       1       47     5.0  964983815\n",
       "4       1       50     5.0  964982931"
      ]
     },
     "execution_count": 46,
     "metadata": {},
     "output_type": "execute_result"
    }
   ],
   "source": [
    "#ratings data\n",
    "ratings_df=pd.read_csv(r\"C:\\Users\\David\\Documents\\PHASE 4 PROJECT\\ratings.csv\")\n",
    "ratings_df.head()"
   ]
  },
  {
   "cell_type": "code",
   "execution_count": 47,
   "metadata": {},
   "outputs": [
    {
     "data": {
      "text/html": [
       "<div>\n",
       "<style scoped>\n",
       "    .dataframe tbody tr th:only-of-type {\n",
       "        vertical-align: middle;\n",
       "    }\n",
       "\n",
       "    .dataframe tbody tr th {\n",
       "        vertical-align: top;\n",
       "    }\n",
       "\n",
       "    .dataframe thead th {\n",
       "        text-align: right;\n",
       "    }\n",
       "</style>\n",
       "<table border=\"1\" class=\"dataframe\">\n",
       "  <thead>\n",
       "    <tr style=\"text-align: right;\">\n",
       "      <th></th>\n",
       "      <th>movieId</th>\n",
       "      <th>imdbId</th>\n",
       "      <th>tmdbId</th>\n",
       "    </tr>\n",
       "  </thead>\n",
       "  <tbody>\n",
       "    <tr>\n",
       "      <th>0</th>\n",
       "      <td>1</td>\n",
       "      <td>114709</td>\n",
       "      <td>862.0</td>\n",
       "    </tr>\n",
       "    <tr>\n",
       "      <th>1</th>\n",
       "      <td>2</td>\n",
       "      <td>113497</td>\n",
       "      <td>8844.0</td>\n",
       "    </tr>\n",
       "    <tr>\n",
       "      <th>2</th>\n",
       "      <td>3</td>\n",
       "      <td>113228</td>\n",
       "      <td>15602.0</td>\n",
       "    </tr>\n",
       "    <tr>\n",
       "      <th>3</th>\n",
       "      <td>4</td>\n",
       "      <td>114885</td>\n",
       "      <td>31357.0</td>\n",
       "    </tr>\n",
       "    <tr>\n",
       "      <th>4</th>\n",
       "      <td>5</td>\n",
       "      <td>113041</td>\n",
       "      <td>11862.0</td>\n",
       "    </tr>\n",
       "  </tbody>\n",
       "</table>\n",
       "</div>"
      ],
      "text/plain": [
       "   movieId  imdbId   tmdbId\n",
       "0        1  114709    862.0\n",
       "1        2  113497   8844.0\n",
       "2        3  113228  15602.0\n",
       "3        4  114885  31357.0\n",
       "4        5  113041  11862.0"
      ]
     },
     "execution_count": 47,
     "metadata": {},
     "output_type": "execute_result"
    }
   ],
   "source": [
    "#links data\n",
    "links_df=pd.read_csv(r\"C:\\Users\\David\\Documents\\PHASE 4 PROJECT\\links.csv\")\n",
    "links_df.head()"
   ]
  },
  {
   "cell_type": "markdown",
   "metadata": {},
   "source": [
    "### 2. Data preprocessing "
   ]
  },
  {
   "cell_type": "code",
   "execution_count": 48,
   "metadata": {},
   "outputs": [
    {
     "name": "stdout",
     "output_type": "stream",
     "text": [
      "   userId  movieId  rating   timestamp             title  \\\n",
      "0       1        1     4.0   964982703  Toy Story (1995)   \n",
      "1       5        1     4.0   847434962  Toy Story (1995)   \n",
      "2       7        1     4.5  1106635946  Toy Story (1995)   \n",
      "3      15        1     2.5  1510577970  Toy Story (1995)   \n",
      "4      17        1     4.5  1305696483  Toy Story (1995)   \n",
      "\n",
      "                                        genres  imdbId  tmdbId  \n",
      "0  Adventure|Animation|Children|Comedy|Fantasy  114709   862.0  \n",
      "1  Adventure|Animation|Children|Comedy|Fantasy  114709   862.0  \n",
      "2  Adventure|Animation|Children|Comedy|Fantasy  114709   862.0  \n",
      "3  Adventure|Animation|Children|Comedy|Fantasy  114709   862.0  \n",
      "4  Adventure|Animation|Children|Comedy|Fantasy  114709   862.0  \n"
     ]
    }
   ],
   "source": [
    "#Merging DataFrames to create a comprehensive dataset\n",
    "# Merge ratings with movies to get movie titles\n",
    "merged_df = pd.merge(ratings_df, movies_df, on='movieId')\n",
    "\n",
    "# merge links\n",
    "merged_df = pd.merge(merged_df, links_df, on='movieId')\n",
    "\n",
    "# Preview the merged DataFrame\n",
    "print(merged_df.head())\n"
   ]
  },
  {
   "cell_type": "code",
   "execution_count": 49,
   "metadata": {},
   "outputs": [
    {
     "data": {
      "text/plain": [
       "userId        0\n",
       "movieId       0\n",
       "rating        0\n",
       "timestamp     0\n",
       "title         0\n",
       "genres        0\n",
       "imdbId        0\n",
       "tmdbId       13\n",
       "dtype: int64"
      ]
     },
     "execution_count": 49,
     "metadata": {},
     "output_type": "execute_result"
    }
   ],
   "source": [
    "# Handling missing values.\n",
    "merged_df.isnull().sum()"
   ]
  },
  {
   "cell_type": "markdown",
   "metadata": {},
   "source": [
    "There are 13 missing values in tmdbId column. The other  columns have no missing values. I will use forwad fill to handle the missing values."
   ]
  },
  {
   "cell_type": "code",
   "execution_count": 50,
   "metadata": {},
   "outputs": [
    {
     "name": "stdout",
     "output_type": "stream",
     "text": [
      "Index(['userId', 'movieId', 'rating', 'timestamp', 'title', 'genres', 'imdbId',\n",
      "       'tmdbId'],\n",
      "      dtype='object')\n"
     ]
    }
   ],
   "source": [
    "## forward fill\n",
    "merged_df['tmdbId'] = merged_df['tmdbId'].fillna(method='ffill')\n",
    "print(merged_df.columns)\n"
   ]
  },
  {
   "cell_type": "code",
   "execution_count": 51,
   "metadata": {},
   "outputs": [
    {
     "data": {
      "text/plain": [
       "userId         int64\n",
       "movieId        int64\n",
       "rating       float64\n",
       "timestamp      int64\n",
       "title         object\n",
       "genres        object\n",
       "imdbId         int64\n",
       "tmdbId       float64\n",
       "dtype: object"
      ]
     },
     "execution_count": 51,
     "metadata": {},
     "output_type": "execute_result"
    }
   ],
   "source": [
    "#checking for data types\n",
    "merged_df.dtypes"
   ]
  },
  {
   "cell_type": "markdown",
   "metadata": {},
   "source": [
    "title and genres are categorical."
   ]
  },
  {
   "cell_type": "code",
   "execution_count": 52,
   "metadata": {},
   "outputs": [],
   "source": [
    "#Dealing with Categorical Variables\n",
    "#One-Hot Encoding for Genres:\n",
    "# One-hot encoding for genres\n",
    "genres_dummies = merged_df['genres'].str.get_dummies(sep='|')\n",
    "#TF-IDF for Titles: to convert titles into numeric\n",
    "from sklearn.feature_extraction.text import TfidfVectorizer\n",
    "\n",
    "tfidf = TfidfVectorizer(stop_words='english')\n",
    "title_matrix = tfidf.fit_transform(merged_df['title'])\n"
   ]
  },
  {
   "cell_type": "code",
   "execution_count": 53,
   "metadata": {},
   "outputs": [],
   "source": [
    "#Spliting the Data\n",
    "from sklearn.model_selection import train_test_split\n",
    "\n",
    "\n",
    "train_df, test_df = train_test_split(merged_df, test_size=0.2, random_state=42)\n"
   ]
  },
  {
   "cell_type": "code",
   "execution_count": 54,
   "metadata": {},
   "outputs": [
    {
     "name": "stdout",
     "output_type": "stream",
     "text": [
      "        userId  movieId  rating   timestamp  \\\n",
      "0            1        1     4.0   964982703   \n",
      "1            5        1     4.0   847434962   \n",
      "2            7        1     4.5  1106635946   \n",
      "3           15        1     2.5  1510577970   \n",
      "4           17        1     4.5  1305696483   \n",
      "...        ...      ...     ...         ...   \n",
      "100831     610   160341     2.5  1479545749   \n",
      "100832     610   160527     4.5  1479544998   \n",
      "100833     610   160836     3.0  1493844794   \n",
      "100834     610   163937     3.5  1493848789   \n",
      "100835     610   163981     3.5  1493850155   \n",
      "\n",
      "                                             genres   imdbId    tmdbId   00  \\\n",
      "0       Adventure|Animation|Children|Comedy|Fantasy   114709     862.0  0.0   \n",
      "1       Adventure|Animation|Children|Comedy|Fantasy   114709     862.0  0.0   \n",
      "2       Adventure|Animation|Children|Comedy|Fantasy   114709     862.0  0.0   \n",
      "3       Adventure|Animation|Children|Comedy|Fantasy   114709     862.0  0.0   \n",
      "4       Adventure|Animation|Children|Comedy|Fantasy   114709     862.0  0.0   \n",
      "...                                             ...      ...       ...  ...   \n",
      "100831                              Action|Thriller   118745   30948.0  0.0   \n",
      "100832                           Action|Crime|Drama    66806   90351.0  0.0   \n",
      "100833                        Action|Drama|Thriller   798722   70193.0  0.0   \n",
      "100834                              Horror|Thriller  1540011  351211.0  0.0   \n",
      "100835                                       Horror  3835080  284564.0  0.0   \n",
      "\n",
      "        000  007  ...  écume  époque  étage  étrange  été  être  ôdishon  \\\n",
      "0       0.0  0.0  ...    0.0     0.0    0.0      0.0  0.0   0.0      0.0   \n",
      "1       0.0  0.0  ...    0.0     0.0    0.0      0.0  0.0   0.0      0.0   \n",
      "2       0.0  0.0  ...    0.0     0.0    0.0      0.0  0.0   0.0      0.0   \n",
      "3       0.0  0.0  ...    0.0     0.0    0.0      0.0  0.0   0.0      0.0   \n",
      "4       0.0  0.0  ...    0.0     0.0    0.0      0.0  0.0   0.0      0.0   \n",
      "...     ...  ...  ...    ...     ...    ...      ...  ...   ...      ...   \n",
      "100831  0.0  0.0  ...    0.0     0.0    0.0      0.0  0.0   0.0      0.0   \n",
      "100832  0.0  0.0  ...    0.0     0.0    0.0      0.0  0.0   0.0      0.0   \n",
      "100833  0.0  0.0  ...    0.0     0.0    0.0      0.0  0.0   0.0      0.0   \n",
      "100834  0.0  0.0  ...    0.0     0.0    0.0      0.0  0.0   0.0      0.0   \n",
      "100835  0.0  0.0  ...    0.0     0.0    0.0      0.0  0.0   0.0      0.0   \n",
      "\n",
      "        ônibus  ôritsu  über  \n",
      "0          0.0     0.0   0.0  \n",
      "1          0.0     0.0   0.0  \n",
      "2          0.0     0.0   0.0  \n",
      "3          0.0     0.0   0.0  \n",
      "4          0.0     0.0   0.0  \n",
      "...        ...     ...   ...  \n",
      "100831     0.0     0.0   0.0  \n",
      "100832     0.0     0.0   0.0  \n",
      "100833     0.0     0.0   0.0  \n",
      "100834     0.0     0.0   0.0  \n",
      "100835     0.0     0.0   0.0  \n",
      "\n",
      "[100836 rows x 9044 columns]\n"
     ]
    }
   ],
   "source": [
    "#Feature Engineering\n",
    "#I will use content based filtering\n",
    "#Convert sparse matrix to DataFrame\n",
    "title_df = pd.DataFrame(title_matrix.toarray(), columns=tfidf.get_feature_names_out())\n",
    "\n",
    "#Concatenate with merged_df\n",
    "merged_df = pd.concat([merged_df.drop('title', axis=1), title_df], axis=1)\n",
    "\n",
    "print(merged_df)"
   ]
  },
  {
   "cell_type": "markdown",
   "metadata": {},
   "source": [
    "### 3. Choosing a Recommendation Algorithm\n",
    "\n",
    "I will work with content based filtering"
   ]
  },
  {
   "cell_type": "code",
   "execution_count": 55,
   "metadata": {},
   "outputs": [],
   "source": [
    "# Combine the TF-IDF features from titles and one-hot encoded genres.\n",
    "from scipy.sparse import hstack\n",
    "\n",
    "# Combine title and genres\n",
    "combined_features = hstack([title_matrix, genres_dummies])\n"
   ]
  }
 ],
 "metadata": {
  "kernelspec": {
   "display_name": "learn-env",
   "language": "python",
   "name": "python3"
  },
  "language_info": {
   "codemirror_mode": {
    "name": "ipython",
    "version": 3
   },
   "file_extension": ".py",
   "mimetype": "text/x-python",
   "name": "python",
   "nbconvert_exporter": "python",
   "pygments_lexer": "ipython3",
   "version": "3.8.5"
  }
 },
 "nbformat": 4,
 "nbformat_minor": 2
}
